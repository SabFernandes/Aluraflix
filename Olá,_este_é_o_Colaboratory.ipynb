{
  "cells": [
    {
      "cell_type": "markdown",
      "metadata": {
        "id": "view-in-github",
        "colab_type": "text"
      },
      "source": [
        "<a href=\"https://colab.research.google.com/github/SabFernandes/Aluraflix/blob/master/Ol%C3%A1%2C_este_%C3%A9_o_Colaboratory.ipynb\" target=\"_parent\"><img src=\"https://colab.research.google.com/assets/colab-badge.svg\" alt=\"Open In Colab\"/></a>"
      ]
    },
    {
      "cell_type": "code",
      "source": [
        "def calculadora():\n",
        "  #Inserção de valores\n",
        "  Num1 = int(input('Insira o primeiro número: '))\n",
        "  Num2 = int(input('Insira o segundo número: '))\n",
        "\n",
        "  Operacao = input('''\n",
        "  Insira um dos sinais para realizar a operação\n",
        "  + para Soma\n",
        "  - para Subtração\n",
        "  * para Multiplicação\n",
        "  / para Divisão\n",
        "  ''')\n",
        "\n",
        "  #Soma\n",
        "  if Operacao == '+':\n",
        "    print('{} + {}'.format(Num1, Num2) )\n",
        "    print(Num1 + Num2)\n",
        "\n",
        "  #Subtração\n",
        "  elif Operacao == '-':\n",
        "    print('{} - {}'.format(Num1, Num2))\n",
        "    print(Num1 - Num2)\n",
        "\n",
        "  #Multiplicação\n",
        "  elif Operacao == '*':\n",
        "    print('{} * {}'.format(Num1, Num2))\n",
        "    print(Num1 * Num2)\n",
        "\n",
        "  #Divisão\n",
        "  elif Operacao == '/':\n",
        "    print('{} / {}'.format(Num1, Num2))\n",
        "    print(Num1 / Num2)\n",
        "\n",
        "  else:\n",
        "    print(\n",
        "        '''[ATENÇÃO]\n",
        "          Operação invalida!!''')\n",
        "    \n",
        "  denovo()\n",
        "    \n",
        "def denovo():\n",
        "  calc_denovo = input('''\n",
        "  Quer realizar operações novamente:\n",
        "  S - Sim\n",
        "  N - Não\n",
        "  ''')\n",
        "\n",
        "  if calc_denovo.upper() == 'S':\n",
        "    calculadora()\n",
        "\n",
        "  elif calc_denovo.upper() == 'N':\n",
        "    print('[OBRIGADA POR USAR NOSSA CALCULADORA]')\n",
        "\n",
        "  else:\n",
        "    denovo()\n",
        "\n",
        "calculadora()"
      ],
      "metadata": {
        "colab": {
          "base_uri": "https://localhost:8080/"
        },
        "id": "LXpAyrXhUuMK",
        "outputId": "a621ba3e-5ce7-4f7e-a972-2cc2ea22b2a7"
      },
      "execution_count": 20,
      "outputs": [
        {
          "output_type": "stream",
          "name": "stdout",
          "text": [
            "Insira o primeiro número: 10\n",
            "Insira o segundo número: 7\n",
            "\n",
            "  Insira um dos sinais para realizar a operação\n",
            "  + para Soma\n",
            "  - para Subtração\n",
            "  * para Multiplicação\n",
            "  / para Divisão\n",
            "  *\n",
            "10 * 7\n",
            "70\n",
            "\n",
            "  Quer realizar operações novamente:\n",
            "  S - Sim\n",
            "  N - Não\n",
            "  n\n",
            "[OBRIGADA POR USAR NOSSA CALCULADORA]\n"
          ]
        }
      ]
    }
  ],
  "metadata": {
    "colab": {
      "collapsed_sections": [],
      "name": "Olá, este é o Colaboratory",
      "toc_visible": true,
      "provenance": [],
      "include_colab_link": true
    },
    "kernelspec": {
      "display_name": "Python 3",
      "name": "python3"
    }
  },
  "nbformat": 4,
  "nbformat_minor": 0
}